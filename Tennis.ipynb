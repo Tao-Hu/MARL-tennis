{
 "cells": [
  {
   "cell_type": "markdown",
   "metadata": {},
   "source": [
    "# Collaboration and Competition\n",
    "\n",
    "---\n",
    "\n",
    "### 1. Start the Environment"
   ]
  },
  {
   "cell_type": "code",
   "execution_count": 1,
   "metadata": {},
   "outputs": [
    {
     "name": "stderr",
     "output_type": "stream",
     "text": [
      "INFO:unityagents:\n",
      "'Academy' started successfully!\n",
      "Unity Academy name: Academy\n",
      "        Number of Brains: 1\n",
      "        Number of External Brains : 1\n",
      "        Lesson number : 0\n",
      "        Reset Parameters :\n",
      "\t\t\n",
      "Unity brain name: TennisBrain\n",
      "        Number of Visual Observations (per agent): 0\n",
      "        Vector Observation space type: continuous\n",
      "        Vector Observation space size (per agent): 8\n",
      "        Number of stacked Vector Observation: 3\n",
      "        Vector Action space type: continuous\n",
      "        Vector Action space size (per agent): 2\n",
      "        Vector Action descriptions: , \n"
     ]
    }
   ],
   "source": [
    "from unityagents import UnityEnvironment\n",
    "import numpy as np\n",
    "\n",
    "env = UnityEnvironment(file_name=\"Tennis_Windows_x86_64/Tennis.exe\")"
   ]
  },
  {
   "cell_type": "markdown",
   "metadata": {},
   "source": [
    "Environments contain **_brains_** which are responsible for deciding the actions of their associated agents. Here we check for the first brain available, and set it as the default brain we will be controlling from Python."
   ]
  },
  {
   "cell_type": "code",
   "execution_count": 2,
   "metadata": {},
   "outputs": [
    {
     "data": {
      "text/plain": [
       "'TennisBrain'"
      ]
     },
     "execution_count": 2,
     "metadata": {},
     "output_type": "execute_result"
    }
   ],
   "source": [
    "# get the default brain\n",
    "brain_name = env.brain_names[0]\n",
    "brain = env.brains[brain_name]\n",
    "brain_name"
   ]
  },
  {
   "cell_type": "markdown",
   "metadata": {},
   "source": [
    "### 2. Examine the State and Action Spaces\n",
    "\n",
    "Run the code cell below to print some information about the environment."
   ]
  },
  {
   "cell_type": "code",
   "execution_count": 3,
   "metadata": {},
   "outputs": [
    {
     "name": "stdout",
     "output_type": "stream",
     "text": [
      "Number of agents: 2\n",
      "Size of each action: 2\n",
      "There are 2 agents. Each observes a state with length: 24\n",
      "The state for the first agent looks like: [ 0.          0.          0.          0.          0.          0.\n",
      "  0.          0.          0.          0.          0.          0.\n",
      "  0.          0.          0.          0.         -6.65278625 -1.5\n",
      " -0.          0.          6.83172083  6.         -0.          0.        ]\n",
      "The length of rewards is: 2\n",
      "The rewards look like: [0.0, 0.0]\n",
      "The length of dones is: 2\n",
      "The dones look like: [False, False]\n"
     ]
    }
   ],
   "source": [
    "# reset the environment\n",
    "env_info = env.reset(train_mode=True)[brain_name]\n",
    "\n",
    "# number of agents \n",
    "num_agents = len(env_info.agents)\n",
    "print('Number of agents:', num_agents)\n",
    "\n",
    "# size of each action\n",
    "action_size = brain.vector_action_space_size\n",
    "print('Size of each action:', action_size)\n",
    "\n",
    "# examine the state space \n",
    "states = env_info.vector_observations\n",
    "state_size = states.shape[1]\n",
    "print('There are {} agents. Each observes a state with length: {}'.format(states.shape[0], state_size))\n",
    "print('The state for the first agent looks like:', states[0])\n",
    "\n",
    "# examine rewards and dones\n",
    "rewards = env_info.rewards    # list\n",
    "dones = env_info.local_done   # list\n",
    "print('The length of rewards is: {}'.format(len(rewards)))\n",
    "print('The rewards look like:', rewards)\n",
    "print('The length of dones is: {}'.format(len(dones)))\n",
    "print('The dones look like:', dones)"
   ]
  },
  {
   "cell_type": "markdown",
   "metadata": {},
   "source": [
    "### 3. Take Random Actions in the Environment\n",
    "\n",
    "Next code cell shows how to use the Python API to control the agent and receive feedback from the environment.\n",
    "\n",
    "Note that you should set `train_mode=True` to restart the environment."
   ]
  },
  {
   "cell_type": "code",
   "execution_count": 4,
   "metadata": {},
   "outputs": [
    {
     "name": "stdout",
     "output_type": "stream",
     "text": [
      "Episode 1 is finished with 15 steps\n",
      "Total score (averaged over agents) this episode: -0.004999999888241291\n",
      "Episode 2 is finished with 14 steps\n",
      "Total score (averaged over agents) this episode: -0.004999999888241291\n",
      "Episode 3 is finished with 14 steps\n",
      "Total score (averaged over agents) this episode: -0.004999999888241291\n",
      "Episode 4 is finished with 31 steps\n",
      "Total score (averaged over agents) this episode: 0.04500000085681677\n",
      "Episode 5 is finished with 14 steps\n",
      "Total score (averaged over agents) this episode: -0.004999999888241291\n"
     ]
    }
   ],
   "source": [
    "for i in range(5):                                         # play game for 5 episodes\n",
    "    env_info = env.reset(train_mode=False)[brain_name]     # reset the environment    \n",
    "    states = env_info.vector_observations                  # get the current state (for each agent)\n",
    "    scores = np.zeros(num_agents)                          # initialize the score (for each agent)\n",
    "    steps = 0\n",
    "    while True:\n",
    "        actions = np.random.randn(num_agents, action_size) # select an action (for each agent)\n",
    "        actions = np.clip(actions, -1, 1)                  # all actions between -1 and 1\n",
    "        env_info = env.step(actions)[brain_name]           # send all actions to tne environment\n",
    "        next_states = env_info.vector_observations         # get next state (for each agent)\n",
    "        rewards = env_info.rewards                         # get reward (for each agent)\n",
    "        dones = env_info.local_done                        # see if episode finished\n",
    "        scores += env_info.rewards                         # update the score (for each agent)\n",
    "        states = next_states                               # roll over states to next time step\n",
    "        steps += 1\n",
    "        if np.any(dones):                                  # exit loop if episode finished\n",
    "            print('Episode {} is finished with {} steps'.format(i+1, steps))\n",
    "            break\n",
    "    print('Total score (averaged over agents) this episode: {}'.format(np.mean(scores)))"
   ]
  },
  {
   "cell_type": "markdown",
   "metadata": {},
   "source": [
    "### 4. Training with DDPG"
   ]
  },
  {
   "cell_type": "code",
   "execution_count": 5,
   "metadata": {},
   "outputs": [
    {
     "data": {
      "application/vnd.jupyter.widget-view+json": {
       "model_id": "81b1fe3077aa4cc5b03fbc22cc9cdbc3",
       "version_major": 2,
       "version_minor": 0
      },
      "text/plain": [
       "HBox(children=(FloatProgress(value=0.0, description='Episodes', max=5000.0, style=ProgressStyle(description_wi…"
      ]
     },
     "metadata": {},
     "output_type": "display_data"
    },
    {
     "name": "stderr",
     "output_type": "stream",
     "text": [
      "D:\\Projects\\MARL-tennis\\ddpg_agent.py:80: UserWarning: Using a target size (torch.Size([256, 2])) that is different to the input size (torch.Size([256, 1])). This will likely lead to incorrect results due to broadcasting. Please ensure they have the same size.\n",
      "  critic_loss = F.mse_loss(Q_predict, Q_target)\n"
     ]
    },
    {
     "name": "stdout",
     "output_type": "stream",
     "text": [
      "Episode 100/5000 | Average Score (max) Over Past 100 Episodes: 0.01\n",
      "Episode 200/5000 | Average Score (max) Over Past 100 Episodes: 0.0\n",
      "Episode 300/5000 | Average Score (max) Over Past 100 Episodes: 0.0\n",
      "Episode 400/5000 | Average Score (max) Over Past 100 Episodes: 0.01\n",
      "Episode 500/5000 | Average Score (max) Over Past 100 Episodes: 0.02\n",
      "Episode 600/5000 | Average Score (max) Over Past 100 Episodes: 0.0\n",
      "Episode 700/5000 | Average Score (max) Over Past 100 Episodes: 0.0\n",
      "Episode 800/5000 | Average Score (max) Over Past 100 Episodes: 0.02\n",
      "Episode 900/5000 | Average Score (max) Over Past 100 Episodes: 0.06\n",
      "Episode 1000/5000 | Average Score (max) Over Past 100 Episodes: 0.07\n",
      "Episode 1100/5000 | Average Score (max) Over Past 100 Episodes: 0.09\n",
      "Episode 1200/5000 | Average Score (max) Over Past 100 Episodes: 0.11\n",
      "Episode 1300/5000 | Average Score (max) Over Past 100 Episodes: 0.14\n",
      "Episode 1400/5000 | Average Score (max) Over Past 100 Episodes: 0.11\n",
      "Episode 1500/5000 | Average Score (max) Over Past 100 Episodes: 0.15\n",
      "Episode 1600/5000 | Average Score (max) Over Past 100 Episodes: 0.14\n",
      "Episode 1700/5000 | Average Score (max) Over Past 100 Episodes: 0.19\n",
      "Episode 1800/5000 | Average Score (max) Over Past 100 Episodes: 0.24\n",
      "Episode 1900/5000 | Average Score (max) Over Past 100 Episodes: 0.31\n",
      "Episode 2000/5000 | Average Score (max) Over Past 100 Episodes: 0.45\n",
      "Episode 2100/5000 | Average Score (max) Over Past 100 Episodes: 0.4\n",
      "Environment solved in 2150!\n",
      "\n"
     ]
    },
    {
     "data": {
      "image/png": "[encoded data removed]",
      "text/plain": [
       "<Figure size 720x576 with 1 Axes>"
      ]
     },
     "metadata": {
      "needs_background": "light"
     },
     "output_type": "display_data"
    }
   ],
   "source": [
    "import torch\n",
    "import matplotlib.pyplot as plt\n",
    "from tqdm.auto import tqdm\n",
    "\n",
    "from maddpg_agent import MADDPG\n",
    "\n",
    "%reload_ext autoreload\n",
    "%autoreload 2\n",
    "%matplotlib inline\n",
    "\n",
    "num_agents = len(env_info.agents)\n",
    "action_size = brain.vector_action_space_size\n",
    "state_size = env_info.vector_observations.shape[1]\n",
    "\n",
    "n_episodes = 5000\n",
    "score_threshold = 0.5\n",
    "scores = []\n",
    "episodes_bar = tqdm(total=n_episodes, desc='Episodes')\n",
    "\n",
    "agent_maddpg = MADDPG(num_agents, state_size, action_size, [200, 150, 200, 150], 0)\n",
    "\n",
    "for i_episode in range(1, n_episodes + 1):\n",
    "    env_info = env.reset(train_mode=True)[brain_name]\n",
    "    states = env_info.vector_observations\n",
    "    score = np.zeros(num_agents)\n",
    "    \n",
    "    agent_maddpg.reset()\n",
    "    \n",
    "    while True:\n",
    "        actions = agent_maddpg.act(states)\n",
    "        env_info = env.step(actions)[brain_name]\n",
    "        next_states = env_info.vector_observations\n",
    "        rewards = env_info.rewards\n",
    "        dones = env_info.local_done\n",
    "        \n",
    "        agent_maddpg.step(states, actions, rewards, next_states, dones)\n",
    "        \n",
    "        states = next_states\n",
    "        score += rewards\n",
    "        \n",
    "        if any(dones):\n",
    "            break\n",
    "    \n",
    "    score_max = np.max(score)\n",
    "    scores.append(score_max)\n",
    "    average_score = np.mean(scores[-100:])\n",
    "    \n",
    "    if i_episode % 100 == 0:\n",
    "        print(f'Episode {i_episode}/{n_episodes} | Average Score (max) Over Past 100 Episodes: {round(average_score, 2)}')\n",
    "    if average_score >= score_threshold:\n",
    "        agent_maddpg.save_weights()\n",
    "        print(f'Environment solved in {i_episode}!')\n",
    "        break\n",
    "        \n",
    "    episodes_bar.update(1)\n",
    "    \n",
    "episodes_bar.close()\n",
    "\n",
    "plt.figure(figsize=(10, 8))\n",
    "plt.plot(scores)\n",
    "plt.xlabel('Episode')\n",
    "plt.ylabel('Score')\n",
    "plt.savefig('score_plot_MADDPG.png', dpi=300, bbox_inches='tight')\n",
    "plt.show()"
   ]
  },
  {
   "cell_type": "markdown",
   "metadata": {},
   "source": [
    "When finished, close the environment."
   ]
  },
  {
   "cell_type": "code",
   "execution_count": 6,
   "metadata": {},
   "outputs": [],
   "source": [
    "env.close()"
   ]
  }
 ],
 "metadata": {
  "kernelspec": {
   "display_name": "drlnd",
   "language": "python",
   "name": "drlnd"
  },
  "language_info": {
   "codemirror_mode": {
    "name": "ipython",
    "version": 3
   },
   "file_extension": ".py",
   "mimetype": "text/x-python",
   "name": "python",
   "nbconvert_exporter": "python",
   "pygments_lexer": "ipython3",
   "version": "3.6.10"
  }
 },
 "nbformat": 4,
 "nbformat_minor": 2
}
